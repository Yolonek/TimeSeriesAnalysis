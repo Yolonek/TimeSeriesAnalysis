{
 "cells": [
  {
   "cell_type": "code",
   "execution_count": 1,
   "id": "83c7b6b8-d7f0-455b-bb37-6ab660b64b02",
   "metadata": {},
   "outputs": [],
   "source": [
    "import pandas as pd\n",
    "import matplotlib.pyplot as plt\n",
    "import seaborn as sns"
   ]
  },
  {
   "cell_type": "code",
   "execution_count": 3,
   "id": "0a567356-6b83-4cd3-bad2-f89b81021bed",
   "metadata": {},
   "outputs": [
    {
     "data": {
      "text/plain": [
       "'AverageTemperatureData/dataJAN.csv'"
      ]
     },
     "execution_count": 3,
     "metadata": {},
     "output_type": "execute_result"
    }
   ],
   "source": [
    "data_folder = 'AverageTemperatureData/'\n",
    "months = ['JAN']\n",
    "# pd.read_csv(f'{data_folder}data{months[0]}.csv').head()\n",
    "# data_dict = {month: pd.read_csv(f'{data_folder}data{month}.csv') for month in months}\n",
    "f'{data_folder}data{months[0]}.csv'"
   ]
  },
  {
   "cell_type": "code",
   "execution_count": null,
   "id": "7c0f2dce-70e8-4528-a596-f33f697d8081",
   "metadata": {},
   "outputs": [],
   "source": []
  }
 ],
 "metadata": {
  "kernelspec": {
   "display_name": "Python 3 (ipykernel)",
   "language": "python",
   "name": "python3"
  },
  "language_info": {
   "codemirror_mode": {
    "name": "ipython",
    "version": 3
   },
   "file_extension": ".py",
   "mimetype": "text/x-python",
   "name": "python",
   "nbconvert_exporter": "python",
   "pygments_lexer": "ipython3",
   "version": "3.9.13"
  }
 },
 "nbformat": 4,
 "nbformat_minor": 5
}
